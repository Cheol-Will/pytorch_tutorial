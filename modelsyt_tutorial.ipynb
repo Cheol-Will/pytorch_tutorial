{
  "cells": [
    {
      "cell_type": "code",
      "execution_count": 1,
      "metadata": {
        "id": "qFYbqmOEtolA"
      },
      "outputs": [],
      "source": [
        "# For tips on running notebooks in Google Colab, see\n",
        "# https://pytorch.org/tutorials/beginner/colab\n",
        "%matplotlib inline"
      ]
    },
    {
      "cell_type": "markdown",
      "metadata": {
        "id": "xL3vauiWtolH"
      },
      "source": [
        "[Introduction](introyt1_tutorial.html) \\|\\|\n",
        "[Tensors](tensors_deeper_tutorial.html) \\|\\|\n",
        "[Autograd](autogradyt_tutorial.html) \\|\\| **Building Models** \\|\\|\n",
        "[TensorBoard Support](tensorboardyt_tutorial.html) \\|\\| [Training\n",
        "Models](trainingyt.html) \\|\\| [Model Understanding](captumyt.html)\n",
        "\n",
        "Building Models with PyTorch\n",
        "============================\n",
        "\n",
        "Follow along with the video below or on\n",
        "[youtube](https://www.youtube.com/watch?v=OSqIP-mOWOI).\n",
        "\n",
        "``` {.python .jupyter-code-cell}\n",
        "from IPython.display import display, HTML\n",
        "html_code = \"\"\"\n",
        "<div style=\"margin-top:10px; margin-bottom:10px;\">\n",
        "  <iframe width=\"560\" height=\"315\" src=\"https://www.youtube.com/embed/OSqIP-mOWOI\" frameborder=\"0\" allow=\"accelerometer; encrypted-media; gyroscope; picture-in-picture\" allowfullscreen></iframe>\n",
        "</div>\n",
        "\"\"\"\n",
        "display(HTML(html_code))\n",
        "```\n",
        "\n",
        "`torch.nn.Module` and `torch.nn.Parameter`\n",
        "------------------------------------------\n",
        "\n",
        "In this video, we'll be discussing some of the tools PyTorch makes\n",
        "available for building deep learning networks.\n",
        "\n",
        "Except for `Parameter`, the classes we discuss in this video are all\n",
        "subclasses of `torch.nn.Module`. This is the PyTorch base class meant to\n",
        "encapsulate behaviors specific to PyTorch Models and their components.\n",
        "\n",
        "One important behavior of `torch.nn.Module` is registering parameters.\n",
        "If a particular `Module` subclass has learning weights, these weights\n",
        "are expressed as instances of `torch.nn.Parameter`. The `Parameter`\n",
        "class is a subclass of `torch.Tensor`, with the special behavior that\n",
        "when they are assigned as attributes of a `Module`, they are added to\n",
        "the list of that modules parameters. These parameters may be accessed\n",
        "through the `parameters()` method on the `Module` class.\n",
        "\n",
        "As a simple example, here's a very simple model with two linear layers\n",
        "and an activation function. We'll create an instance of it and ask it to\n",
        "report on its parameters:\n"
      ]
    },
    {
      "cell_type": "code",
      "execution_count": 2,
      "metadata": {
        "id": "eySR69-XtolM",
        "outputId": "eede7af1-32c9-4392-8246-5e28f832c4e2",
        "colab": {
          "base_uri": "https://localhost:8080/"
        }
      },
      "outputs": [
        {
          "output_type": "stream",
          "name": "stdout",
          "text": [
            "The model:\n",
            "TinyModel(\n",
            "  (linear1): Linear(in_features=100, out_features=200, bias=True)\n",
            "  (activation): ReLU()\n",
            "  (linear2): Linear(in_features=200, out_features=10, bias=True)\n",
            "  (softmax): Softmax(dim=None)\n",
            ")\n",
            "\n",
            "\n",
            "Just one layer:\n",
            "Linear(in_features=200, out_features=10, bias=True)\n",
            "\n",
            "\n",
            "Model params:\n",
            "Parameter containing:\n",
            "tensor([[-0.0779, -0.0280,  0.0151,  ...,  0.0492,  0.0717, -0.0583],\n",
            "        [ 0.0177, -0.0724,  0.0885,  ...,  0.0100, -0.0089, -0.0050],\n",
            "        [ 0.0263,  0.0400,  0.0423,  ..., -0.0115,  0.0488, -0.0695],\n",
            "        ...,\n",
            "        [-0.0430,  0.0405, -0.0845,  ..., -0.0130,  0.0048, -0.0814],\n",
            "        [ 0.0744, -0.0839, -0.0943,  ..., -0.0895, -0.0971, -0.0593],\n",
            "        [ 0.0762, -0.0525, -0.0972,  ...,  0.0375, -0.0188, -0.0125]],\n",
            "       requires_grad=True)\n",
            "Parameter containing:\n",
            "tensor([-0.0109, -0.0600,  0.0019, -0.0995,  0.0742, -0.0548,  0.0345,  0.0131,\n",
            "         0.0921, -0.0543,  0.0660,  0.0713, -0.0746,  0.0040, -0.0824,  0.0082,\n",
            "        -0.0273, -0.0364, -0.0496, -0.0977,  0.0624, -0.0552,  0.0674, -0.0341,\n",
            "        -0.0424, -0.0362,  0.0468, -0.0217,  0.0595, -0.0866, -0.0291, -0.0066,\n",
            "         0.0025, -0.0729, -0.0925, -0.0391,  0.0234, -0.0109, -0.0857, -0.0341,\n",
            "        -0.0638,  0.0382, -0.0965, -0.0210,  0.0545,  0.0991,  0.0827,  0.0844,\n",
            "         0.0637,  0.0308, -0.0937, -0.0334, -0.0359,  0.0215,  0.0665, -0.0916,\n",
            "        -0.0245,  0.0700, -0.0241, -0.0022,  0.0748, -0.0569,  0.0103,  0.0551,\n",
            "         0.0552,  0.0858,  0.0887, -0.0318,  0.0152, -0.0679,  0.0531,  0.0823,\n",
            "        -0.0717, -0.0359, -0.0375, -0.0741,  0.0777,  0.0530,  0.0646,  0.0638,\n",
            "         0.0790,  0.0569,  0.0176,  0.0292, -0.0962,  0.0203, -0.0373,  0.0374,\n",
            "        -0.0292,  0.0152, -0.0964, -0.0596, -0.0350,  0.0223, -0.0053,  0.0073,\n",
            "         0.0445, -0.0617,  0.0105, -0.0316, -0.0825, -0.0147, -0.0673, -0.0910,\n",
            "         0.0894, -0.0277, -0.0316,  0.0792,  0.0736,  0.0186,  0.0287,  0.0384,\n",
            "        -0.0554, -0.0069,  0.0479,  0.0335, -0.0666,  0.0686,  0.0638,  0.0315,\n",
            "         0.0286,  0.0735,  0.0790, -0.0582, -0.0155, -0.0503, -0.0889,  0.0187,\n",
            "         0.0709,  0.0802, -0.0549,  0.0876,  0.0401, -0.0509, -0.0617,  0.0777,\n",
            "         0.0488,  0.0309, -0.0115, -0.0713,  0.0765, -0.0612, -0.0534,  0.0314,\n",
            "         0.0451,  0.0453, -0.0782, -0.0305, -0.0752,  0.0917, -0.0429,  0.0053,\n",
            "         0.0455, -0.0765, -0.0795, -0.0115,  0.0511, -0.0159,  0.0358,  0.0092,\n",
            "         0.0765,  0.0581, -0.0941, -0.0912,  0.0395, -0.0626,  0.0176, -0.0818,\n",
            "        -0.0676, -0.0381, -0.0776, -0.0854, -0.0044, -0.0924,  0.0845, -0.0620,\n",
            "         0.0489,  0.0047,  0.0604,  0.0420, -0.0542,  0.0102,  0.0498, -0.0514,\n",
            "         0.0071,  0.0748,  0.0456,  0.0877,  0.0623, -0.0271, -0.0538, -0.0577,\n",
            "        -0.0582,  0.0785, -0.0146,  0.0591, -0.0975, -0.0292, -0.0557,  0.0185],\n",
            "       requires_grad=True)\n",
            "Parameter containing:\n",
            "tensor([[ 0.0201, -0.0058, -0.0280,  ...,  0.0689,  0.0177, -0.0505],\n",
            "        [ 0.0106, -0.0544,  0.0113,  ..., -0.0249, -0.0357,  0.0338],\n",
            "        [ 0.0323, -0.0588, -0.0279,  ...,  0.0305,  0.0236, -0.0661],\n",
            "        ...,\n",
            "        [ 0.0610,  0.0197, -0.0561,  ..., -0.0526, -0.0592,  0.0181],\n",
            "        [-0.0685,  0.0381,  0.0393,  ..., -0.0087, -0.0698,  0.0652],\n",
            "        [ 0.0671,  0.0145, -0.0320,  ..., -0.0490,  0.0547,  0.0414]],\n",
            "       requires_grad=True)\n",
            "Parameter containing:\n",
            "tensor([ 0.0229,  0.0607,  0.0190, -0.0439, -0.0094, -0.0051, -0.0019,  0.0133,\n",
            "         0.0366, -0.0130], requires_grad=True)\n",
            "\n",
            "\n",
            "Layer params:\n",
            "Parameter containing:\n",
            "tensor([[ 0.0201, -0.0058, -0.0280,  ...,  0.0689,  0.0177, -0.0505],\n",
            "        [ 0.0106, -0.0544,  0.0113,  ..., -0.0249, -0.0357,  0.0338],\n",
            "        [ 0.0323, -0.0588, -0.0279,  ...,  0.0305,  0.0236, -0.0661],\n",
            "        ...,\n",
            "        [ 0.0610,  0.0197, -0.0561,  ..., -0.0526, -0.0592,  0.0181],\n",
            "        [-0.0685,  0.0381,  0.0393,  ..., -0.0087, -0.0698,  0.0652],\n",
            "        [ 0.0671,  0.0145, -0.0320,  ..., -0.0490,  0.0547,  0.0414]],\n",
            "       requires_grad=True)\n",
            "Parameter containing:\n",
            "tensor([ 0.0229,  0.0607,  0.0190, -0.0439, -0.0094, -0.0051, -0.0019,  0.0133,\n",
            "         0.0366, -0.0130], requires_grad=True)\n"
          ]
        }
      ],
      "source": [
        "import torch\n",
        "\n",
        "class TinyModel(torch.nn.Module):\n",
        "\n",
        "    def __init__(self):\n",
        "        super(TinyModel, self).__init__()\n",
        "\n",
        "        self.linear1 = torch.nn.Linear(100, 200)\n",
        "        self.activation = torch.nn.ReLU()\n",
        "        self.linear2 = torch.nn.Linear(200, 10)\n",
        "        self.softmax = torch.nn.Softmax()\n",
        "\n",
        "    def forward(self, x):\n",
        "        x = self.linear1(x)\n",
        "        x = self.activation(x)\n",
        "        x = self.linear2(x)\n",
        "        x = self.softmax(x)\n",
        "        return x\n",
        "\n",
        "tinymodel = TinyModel()\n",
        "\n",
        "print('The model:')\n",
        "print(tinymodel)\n",
        "\n",
        "print('\\n\\nJust one layer:')\n",
        "print(tinymodel.linear2)\n",
        "\n",
        "print('\\n\\nModel params:')\n",
        "for param in tinymodel.parameters():\n",
        "    print(param)\n",
        "\n",
        "print('\\n\\nLayer params:')\n",
        "for param in tinymodel.linear2.parameters():\n",
        "    print(param)"
      ]
    },
    {
      "cell_type": "markdown",
      "metadata": {
        "id": "OobvWv2LtolN"
      },
      "source": [
        "This shows the fundamental structure of a PyTorch model: there is an\n",
        "`__init__()` method that defines the layers and other components of a\n",
        "model, and a `forward()` method where the computation gets done. Note\n",
        "that we can print the model, or any of its submodules, to learn about\n",
        "its structure.\n",
        "\n",
        "Common Layer Types\n",
        "==================\n",
        "\n",
        "Linear Layers\n",
        "-------------\n",
        "\n",
        "The most basic type of neural network layer is a *linear* or *fully\n",
        "connected* layer. This is a layer where every input influences every\n",
        "output of the layer to a degree specified by the layer's weights. If a\n",
        "model has *m* inputs and *n* outputs, the weights will be an *m* x *n*\n",
        "matrix. For example:\n"
      ]
    },
    {
      "cell_type": "code",
      "execution_count": 3,
      "metadata": {
        "id": "9MsADiCdtolP",
        "outputId": "6ee642f1-90ea-492f-b9d9-98fcab7d816b",
        "colab": {
          "base_uri": "https://localhost:8080/"
        }
      },
      "outputs": [
        {
          "output_type": "stream",
          "name": "stdout",
          "text": [
            "Input:\n",
            "tensor([[0.5608, 0.1865, 0.8947]])\n",
            "\n",
            "\n",
            "Weight and Bias parameters:\n",
            "Parameter containing:\n",
            "tensor([[ 0.0219,  0.1609,  0.1402],\n",
            "        [-0.3485,  0.0154,  0.1571]], requires_grad=True)\n",
            "Parameter containing:\n",
            "tensor([-0.2660,  0.0655], requires_grad=True)\n",
            "\n",
            "\n",
            "Output:\n",
            "tensor([[-0.0982,  0.0135]], grad_fn=<AddmmBackward0>)\n"
          ]
        }
      ],
      "source": [
        "lin = torch.nn.Linear(3, 2)\n",
        "x = torch.rand(1, 3)\n",
        "print('Input:')\n",
        "print(x)\n",
        "\n",
        "print('\\n\\nWeight and Bias parameters:')\n",
        "for param in lin.parameters():\n",
        "    print(param)\n",
        "\n",
        "y = lin(x)\n",
        "print('\\n\\nOutput:')\n",
        "print(y)"
      ]
    },
    {
      "cell_type": "markdown",
      "metadata": {
        "id": "4w2CuU4btolQ"
      },
      "source": [
        "If you do the matrix multiplication of `x` by the linear layer's\n",
        "weights, and add the biases, you'll find that you get the output vector\n",
        "`y`.\n",
        "\n",
        "One other important feature to note: When we checked the weights of our\n",
        "layer with `lin.weight`, it reported itself as a `Parameter` (which is a\n",
        "subclass of `Tensor`), and let us know that it's tracking gradients with\n",
        "autograd. This is a default behavior for `Parameter` that differs from\n",
        "`Tensor`.\n",
        "\n",
        "Linear layers are used widely in deep learning models. One of the most\n",
        "common places you'll see them is in classifier models, which will\n",
        "usually have one or more linear layers at the end, where the last layer\n",
        "will have *n* outputs, where *n* is the number of classes the classifier\n",
        "addresses.\n",
        "\n",
        "Convolutional Layers\n",
        "====================\n",
        "\n",
        "*Convolutional* layers are built to handle data with a high degree of\n",
        "spatial correlation. They are very commonly used in computer vision,\n",
        "where they detect close groupings of features which the compose into\n",
        "higher-level features. They pop up in other contexts too - for example,\n",
        "in NLP applications, where a word's immediate context (that is, the\n",
        "other words nearby in the sequence) can affect the meaning of a\n",
        "sentence.\n",
        "\n",
        "We saw convolutional layers in action in LeNet5 in an earlier video:\n"
      ]
    },
    {
      "cell_type": "code",
      "execution_count": 5,
      "metadata": {
        "id": "Vd9mGD6ZtolR"
      },
      "outputs": [],
      "source": [
        "import torch.functional as F\n",
        "\n",
        "\n",
        "class LeNet(torch.nn.Module):\n",
        "\n",
        "    def __init__(self):\n",
        "        super(LeNet, self).__init__()\n",
        "        # 1 input image channel (black & white), 6 output channels, 5x5 square convolution\n",
        "        # kernel\n",
        "\n",
        "        self.conv1 = torch.nn.Conv2d(in_channels = 1, out_channels = 6, kernel_size = 5)\n",
        "        self.conv2 = torch.nn.Conv2d(6, 16, 3)\n",
        "        # an affine operation: y = Wx + b\n",
        "        self.fc1 = torch.nn.Linear(16 * 6 * 6, 120)  # 6*6 from image dimension\n",
        "        self.fc2 = torch.nn.Linear(120, 84)\n",
        "        self.fc3 = torch.nn.Linear(84, 10)\n",
        "\n",
        "    def forward(self, x):\n",
        "        # Max pooling over a (2, 2) window\n",
        "        x = F.max_pool2d(F.relu(self.conv1(x)), (2, 2))\n",
        "        # If the size is a square you can only specify a single number\n",
        "        x = F.max_pool2d(F.relu(self.conv2(x)), 2)\n",
        "        x = x.view(-1, self.num_flat_features(x))\n",
        "        x = F.relu(self.fc1(x))\n",
        "        x = F.relu(self.fc2(x))\n",
        "        x = self.fc3(x)\n",
        "        return x\n",
        "\n",
        "    def num_flat_features(self, x):\n",
        "        size = x.size()[1:]  # all dimensions except the batch dimension\n",
        "        num_features = 1\n",
        "        for s in size:\n",
        "            num_features *= s\n",
        "        return num_features"
      ]
    },
    {
      "cell_type": "markdown",
      "metadata": {
        "id": "g5RUp7wLtolS"
      },
      "source": [
        "Let's break down what's happening in the convolutional layers of this\n",
        "model. Starting with `conv1`:\n",
        "\n",
        "-   LeNet5 is meant to take in a 1x32x32 black & white image. **The\n",
        "    first argument to a convolutional layer's constructor is the number\n",
        "    of input channels.** Here, it is 1. If we were building this model\n",
        "    to look at 3-color channels, it would be 3.\n",
        "-   A convolutional layer is like a window that scans over the image,\n",
        "    looking for a pattern it recognizes. These patterns are called\n",
        "    *features,* and one of the parameters of a convolutional layer is\n",
        "    the number of features we would like it to learn. **This is the\n",
        "    second argument to the constructor is the number of output\n",
        "    features.** Here, we're asking our layer to learn 6 features.\n",
        "-   Just above, I likened the convolutional layer to a window - but how\n",
        "    big is the window? **The third argument is the window or kernel\n",
        "    size.** Here, the \"5\" means we've chosen a 5x5 kernel. (If you want\n",
        "    a kernel with height different from width, you can specify a tuple\n",
        "    for this argument - e.g., `(3, 5)` to get a 3x5 convolution kernel.)\n",
        "\n",
        "The output of a convolutional layer is an *activation map* - a spatial\n",
        "representation of the presence of features in the input tensor. `conv1`\n",
        "will give us an output tensor of 6x28x28; 6 is the number of features,\n",
        "and 28 is the height and width of our map. (The 28 comes from the fact\n",
        "that when scanning a 5-pixel window over a 32-pixel row, there are only\n",
        "28 valid positions.)\n",
        "\n",
        "We then pass the output of the convolution through a ReLU activation\n",
        "function (more on activation functions later), then through a max\n",
        "pooling layer. The max pooling layer takes features near each other in\n",
        "the activation map and groups them together. It does this by reducing\n",
        "the tensor, merging every 2x2 group of cells in the output into a single\n",
        "cell, and assigning that cell the maximum value of the 4 cells that went\n",
        "into it. This gives us a lower-resolution version of the activation map,\n",
        "with dimensions 6x14x14.\n",
        "\n",
        "Our next convolutional layer, `conv2`, expects 6 input channels\n",
        "(corresponding to the 6 features sought by the first layer), has 16\n",
        "output channels, and a 3x3 kernel. It puts out a 16x12x12 activation\n",
        "map, which is again reduced by a max pooling layer to 16x6x6. Prior to\n",
        "passing this output to the linear layers, it is reshaped to a 16 \\* 6 \\*\n",
        "6 = 576-element vector for consumption by the next layer.\n",
        "\n",
        "There are convolutional layers for addressing 1D, 2D, and 3D tensors.\n",
        "There are also many more optional arguments for a conv layer\n",
        "constructor, including stride length(e.g., only scanning every second or\n",
        "every third position) in the input, padding (so you can scan out to the\n",
        "edges of the input), and more. See the\n",
        "[documentation](https://pytorch.org/docs/stable/nn.html#convolution-layers)\n",
        "for more information.\n",
        "\n",
        "Recurrent Layers\n",
        "================\n",
        "\n",
        "*Recurrent neural networks* (or *RNNs)* are used for sequential data\n",
        "-anything from time-series measurements from a scientific instrument to\n",
        "natural language sentences to DNA nucleotides. An RNN does this by\n",
        "maintaining a *hidden state* that acts as a sort of memory for what it\n",
        "has seen in the sequence so far.\n",
        "\n",
        "The internal structure of an RNN layer - or its variants, the LSTM (long\n",
        "short-term memory) and GRU (gated recurrent unit) - is moderately\n",
        "complex and beyond the scope of this video, but we'll show you what one\n",
        "looks like in action with an LSTM-based part-of-speech tagger (a type of\n",
        "classifier that tells you if a word is a noun, verb, etc.):\n"
      ]
    },
    {
      "cell_type": "code",
      "execution_count": 7,
      "metadata": {
        "id": "AF_UgiJatolU"
      },
      "outputs": [],
      "source": [
        "class LSTMTagger(torch.nn.Module):\n",
        "\n",
        "    def __init__(self, embedding_dim, hidden_dim, vocab_size, tagset_size):\n",
        "        super(LSTMTagger, self).__init__()\n",
        "        self.hidden_dim = hidden_dim\n",
        "\n",
        "        self.word_embeddings = torch.nn.Embedding(vocab_size, embedding_dim)\n",
        "\n",
        "        # The LSTM takes word embeddings as inputs, and outputs hidden states\n",
        "        # with dimensionality hidden_dim.\n",
        "        self.lstm = torch.nn.LSTM(embedding_dim, hidden_dim)\n",
        "\n",
        "        # The linear layer that maps from hidden state space to tag space\n",
        "        self.hidden2tag = torch.nn.Linear(hidden_dim, tagset_size)\n",
        "\n",
        "    def forward(self, sentence):\n",
        "        embeds = self.word_embeddings(sentence)\n",
        "        lstm_out, _ = self.lstm(embeds.view(len(sentence), 1, -1))\n",
        "        tag_space = self.hidden2tag(lstm_out.view(len(sentence), -1))\n",
        "        tag_scores = F.log_softmax(tag_space, dim=1)\n",
        "        return tag_scores"
      ]
    },
    {
      "cell_type": "markdown",
      "metadata": {
        "id": "IXIHpUdrtolV"
      },
      "source": [
        "The constructor has four arguments:\n",
        "\n",
        "-   `vocab_size` is the number of words in the input vocabulary. Each\n",
        "    word is a one-hot vector (or unit vector) in a\n",
        "    `vocab_size`-dimensional space.\n",
        "-   `tagset_size` is the number of tags in the output set.\n",
        "-   `embedding_dim` is the size of the *embedding* space for the\n",
        "    vocabulary. An embedding maps a vocabulary onto a low-dimensional\n",
        "    space, where words with similar meanings are close together in the\n",
        "    space.\n",
        "-   `hidden_dim` is the size of the LSTM's memory.\n",
        "\n",
        "The input will be a sentence with the words represented as indices of\n",
        "one-hot vectors. The embedding layer will then map these down to an\n",
        "`embedding_dim`-dimensional space. The LSTM takes this sequence of\n",
        "embeddings and iterates over it, fielding an output vector of length\n",
        "`hidden_dim`. The final linear layer acts as a classifier; applying\n",
        "`log_softmax()` to the output of the final layer converts the output\n",
        "into a normalized set of estimated probabilities that a given word maps\n",
        "to a given tag.\n",
        "\n",
        "If you'd like to see this network in action, check out the [Sequence\n",
        "Models and LSTM\n",
        "Networks](https://pytorch.org/tutorials/beginner/nlp/sequence_models_tutorial.html)\n",
        "tutorial on pytorch.org.\n",
        "\n",
        "Transformers\n",
        "============\n",
        "\n",
        "*Transformers* are multi-purpose networks that have taken over the state\n",
        "of the art in NLP with models like BERT. A discussion of transformer\n",
        "architecture is beyond the scope of this video, but PyTorch has a\n",
        "`Transformer` class that allows you to define the overall parameters of\n",
        "a transformer model - the number of attention heads, the number of\n",
        "encoder & decoder layers, dropout and activation functions, etc. (You\n",
        "can even build the BERT model from this single class, with the right\n",
        "parameters!) The `torch.nn.Transformer` class also has classes to\n",
        "encapsulate the individual components (`TransformerEncoder`,\n",
        "`TransformerDecoder`) and subcomponents (`TransformerEncoderLayer`,\n",
        "`TransformerDecoderLayer`). For details, check out the\n",
        "[documentation](https://pytorch.org/docs/stable/nn.html#transformer-layers)\n",
        "on transformer classes.\n",
        "\n",
        "Other Layers and Functions\n",
        "--------------------------\n",
        "\n",
        "Data Manipulation Layers\n",
        "========================\n",
        "\n",
        "There are other layer types that perform important functions in models,\n",
        "but don't participate in the learning process themselves.\n",
        "\n",
        "**Max pooling** (and its twin, min pooling) reduce a tensor by combining\n",
        "cells, and assigning the maximum value of the input cells to the output\n",
        "cell (we saw this). For example:\n"
      ]
    },
    {
      "cell_type": "code",
      "execution_count": 6,
      "metadata": {
        "id": "xEX7Qd1QtolW",
        "outputId": "c2a09f44-d5fd-4da1-eb1d-5f4bf1097663",
        "colab": {
          "base_uri": "https://localhost:8080/"
        }
      },
      "outputs": [
        {
          "output_type": "stream",
          "name": "stdout",
          "text": [
            "tensor([[[0.6547, 0.5595, 0.2106, 0.6274, 0.3720, 0.7683],\n",
            "         [0.2294, 0.5146, 0.2456, 0.1810, 0.3875, 0.5416],\n",
            "         [0.2503, 0.5778, 0.9307, 0.2707, 0.1259, 0.2835],\n",
            "         [0.5353, 0.3875, 0.9109, 0.2179, 0.2537, 0.6487],\n",
            "         [0.4948, 0.9255, 0.1650, 0.8181, 0.9003, 0.0650],\n",
            "         [0.1743, 0.3276, 0.1718, 0.4557, 0.7968, 0.3244]]])\n",
            "tensor([[[0.9307, 0.7683],\n",
            "         [0.9255, 0.9003]]])\n"
          ]
        }
      ],
      "source": [
        "my_tensor = torch.rand(1, 6, 6)\n",
        "print(my_tensor)\n",
        "\n",
        "maxpool_layer = torch.nn.MaxPool2d(3)\n",
        "print(maxpool_layer(my_tensor))"
      ]
    },
    {
      "cell_type": "markdown",
      "metadata": {
        "id": "kBslBea3tolX"
      },
      "source": [
        "If you look closely at the values above, you'll see that each of the\n",
        "values in the maxpooled output is the maximum value of each quadrant of\n",
        "the 6x6 input.\n",
        "\n",
        "**Normalization layers** re-center and normalize the output of one layer\n",
        "before feeding it to another. Centering and scaling the intermediate\n",
        "tensors has a number of beneficial effects, such as letting you use\n",
        "higher learning rates without exploding/vanishing gradients.\n"
      ]
    },
    {
      "cell_type": "code",
      "execution_count": 8,
      "metadata": {
        "id": "KUsAwYpKtolX",
        "outputId": "4f35e05e-0a44-494c-8430-9dbac2cbeedd",
        "colab": {
          "base_uri": "https://localhost:8080/"
        }
      },
      "outputs": [
        {
          "output_type": "stream",
          "name": "stdout",
          "text": [
            "tensor([[[13.9257, 19.6497, 23.7473, 24.2092],\n",
            "         [24.7045, 11.7703, 16.0743, 10.2464],\n",
            "         [23.9812,  9.9082, 19.6554, 18.6815],\n",
            "         [19.4262, 18.5693,  9.8298, 18.0678]]])\n",
            "tensor(17.6529)\n",
            "tensor([[[-1.5639, -0.1776,  0.8148,  0.9267],\n",
            "         [ 1.6020, -0.6988,  0.0668, -0.9699],\n",
            "         [ 1.1594, -1.5946,  0.3129,  0.1223],\n",
            "         [ 0.7638,  0.5421, -1.7183,  0.4124]]],\n",
            "       grad_fn=<NativeBatchNormBackward0>)\n",
            "tensor(-7.4506e-08, grad_fn=<MeanBackward0>)\n"
          ]
        }
      ],
      "source": [
        "my_tensor = torch.rand(1, 4, 4) * 20 + 5\n",
        "print(my_tensor)\n",
        "\n",
        "print(my_tensor.mean())\n",
        "\n",
        "norm_layer = torch.nn.BatchNorm1d(4)\n",
        "normed_tensor = norm_layer(my_tensor)\n",
        "print(normed_tensor)\n",
        "\n",
        "print(normed_tensor.mean())"
      ]
    },
    {
      "cell_type": "markdown",
      "metadata": {
        "id": "aWGWd8EmtolY"
      },
      "source": [
        "Running the cell above, we've added a large scaling factor and offset to\n",
        "an input tensor; you should see the input tensor's `mean()` somewhere in\n",
        "the neighborhood of 15. After running it through the normalization\n",
        "layer, you can see that the values are smaller, and grouped around zero\n",
        "- in fact, the mean should be very small (\\> 1e-8).\n",
        "\n",
        "This is beneficial because many activation functions (discussed below)\n",
        "have their strongest gradients near 0, but sometimes suffer from\n",
        "vanishing or exploding gradients for inputs that drive them far away\n",
        "from zero. Keeping the data centered around the area of steepest\n",
        "gradient will tend to mean faster, better learning and higher feasible\n",
        "learning rates.\n",
        "\n",
        "**Dropout layers** are a tool for encouraging *sparse representations*\n",
        "in your model - that is, pushing it to do inference with less data.\n",
        "\n",
        "Dropout layers work by randomly setting parts of the input tensor\n",
        "*during training* - dropout layers are always turned off for inference.\n",
        "This forces the model to learn against this masked or reduced dataset.\n",
        "For example:\n"
      ]
    },
    {
      "cell_type": "code",
      "execution_count": 9,
      "metadata": {
        "id": "w5wruxyztolZ",
        "outputId": "0f3347b6-fb17-4ae8-be7c-01031e45eed1",
        "colab": {
          "base_uri": "https://localhost:8080/"
        }
      },
      "outputs": [
        {
          "output_type": "stream",
          "name": "stdout",
          "text": [
            "tensor([[[0.9082, 0.9113, 0.0000, 0.3324],\n",
            "         [0.0000, 0.8277, 1.5828, 0.0000],\n",
            "         [0.0000, 0.0000, 0.6492, 1.0964],\n",
            "         [0.7749, 1.0915, 0.0000, 0.0000]]])\n",
            "tensor([[[0.0000, 0.9113, 0.5662, 0.3324],\n",
            "         [0.2932, 0.8277, 0.0000, 1.4516],\n",
            "         [0.9566, 0.6149, 0.0000, 1.0964],\n",
            "         [0.7749, 0.0000, 0.3872, 1.5872]]])\n"
          ]
        }
      ],
      "source": [
        "my_tensor = torch.rand(1, 4, 4)\n",
        "\n",
        "dropout = torch.nn.Dropout(p=0.4)\n",
        "print(dropout(my_tensor))\n",
        "print(dropout(my_tensor))"
      ]
    },
    {
      "cell_type": "markdown",
      "metadata": {
        "id": "99qJooPntola"
      },
      "source": [
        "Above, you can see the effect of dropout on a sample tensor. You can use\n",
        "the optional `p` argument to set the probability of an individual weight\n",
        "dropping out; if you don't it defaults to 0.5.\n",
        "\n",
        "Activation Functions\n",
        "====================\n",
        "\n",
        "Activation functions make deep learning possible. A neural network is\n",
        "really a program - with many parameters - that *simulates a mathematical\n",
        "function*. If all we did was multiple tensors by layer weights\n",
        "repeatedly, we could only simulate *linear functions;* further, there\n",
        "would be no point to having many layers, as the whole network would\n",
        "reduce could be reduced to a single matrix multiplication. Inserting\n",
        "*non-linear* activation functions between layers is what allows a deep\n",
        "learning model to simulate any function, rather than just linear ones.\n",
        "\n",
        "`torch.nn.Module` has objects encapsulating all of the major activation\n",
        "functions including ReLU and its many variants, Tanh, Hardtanh, sigmoid,\n",
        "and more. It also includes other functions, such as Softmax, that are\n",
        "most useful at the output stage of a model.\n",
        "\n",
        "Loss Functions\n",
        "==============\n",
        "\n",
        "Loss functions tell us how far a model's prediction is from the correct\n",
        "answer. PyTorch contains a variety of loss functions, including common\n",
        "MSE (mean squared error = L2 norm), Cross Entropy Loss and Negative\n",
        "Likelihood Loss (useful for classifiers), and others.\n"
      ]
    }
  ],
  "metadata": {
    "kernelspec": {
      "display_name": "Python 3",
      "name": "python3"
    },
    "language_info": {
      "codemirror_mode": {
        "name": "ipython",
        "version": 3
      },
      "file_extension": ".py",
      "mimetype": "text/x-python",
      "name": "python",
      "nbconvert_exporter": "python",
      "pygments_lexer": "ipython3",
      "version": "3.10.12"
    },
    "colab": {
      "provenance": [],
      "gpuType": "T4"
    },
    "accelerator": "GPU"
  },
  "nbformat": 4,
  "nbformat_minor": 0
}